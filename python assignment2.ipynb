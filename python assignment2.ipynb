{
 "cells": [
  {
   "cell_type": "code",
   "execution_count": null,
   "id": "837368c0-72c2-4e82-b086-0978cfa12b5d",
   "metadata": {},
   "outputs": [],
   "source": [
    "'''Q1. Create a python program to sort the given list of tuples based on integer value using a\n",
    "lambda function.\n",
    "[('Sachin Tendulkar', 34357), ('Ricky Ponting', 27483), ('Jack Kallis', 25534), ('Virat Kohli', 24936)]'''"
   ]
  },
  {
   "cell_type": "code",
   "execution_count": 1,
   "id": "1710e0d7-c9d8-49ed-8db8-f7648a18cbaf",
   "metadata": {},
   "outputs": [
    {
     "ename": "NameError",
     "evalue": "name 'sort' is not defined",
     "output_type": "error",
     "traceback": [
      "\u001b[0;31m---------------------------------------------------------------------------\u001b[0m",
      "\u001b[0;31mNameError\u001b[0m                                 Traceback (most recent call last)",
      "Cell \u001b[0;32mIn[1], line 3\u001b[0m\n\u001b[1;32m      1\u001b[0m l\u001b[38;5;241m=\u001b[39m[(\u001b[38;5;124m'\u001b[39m\u001b[38;5;124mSachin Tendulkar\u001b[39m\u001b[38;5;124m'\u001b[39m, \u001b[38;5;241m34357\u001b[39m), (\u001b[38;5;124m'\u001b[39m\u001b[38;5;124mRicky Ponting\u001b[39m\u001b[38;5;124m'\u001b[39m, \u001b[38;5;241m27483\u001b[39m), (\u001b[38;5;124m'\u001b[39m\u001b[38;5;124mJack Kallis\u001b[39m\u001b[38;5;124m'\u001b[39m, \u001b[38;5;241m25534\u001b[39m), (\u001b[38;5;124m'\u001b[39m\u001b[38;5;124mVirat Kohli\u001b[39m\u001b[38;5;124m'\u001b[39m, \u001b[38;5;241m24936\u001b[39m)]\n\u001b[1;32m      2\u001b[0m find_sort\u001b[38;5;241m=\u001b[39m\u001b[38;5;28;01mlambda\u001b[39;00m l:sort(l)\n\u001b[0;32m----> 3\u001b[0m \u001b[43mfind_sort\u001b[49m\u001b[43m(\u001b[49m\u001b[43ml\u001b[49m\u001b[43m)\u001b[49m\n",
      "Cell \u001b[0;32mIn[1], line 2\u001b[0m, in \u001b[0;36m<lambda>\u001b[0;34m(l)\u001b[0m\n\u001b[1;32m      1\u001b[0m l\u001b[38;5;241m=\u001b[39m[(\u001b[38;5;124m'\u001b[39m\u001b[38;5;124mSachin Tendulkar\u001b[39m\u001b[38;5;124m'\u001b[39m, \u001b[38;5;241m34357\u001b[39m), (\u001b[38;5;124m'\u001b[39m\u001b[38;5;124mRicky Ponting\u001b[39m\u001b[38;5;124m'\u001b[39m, \u001b[38;5;241m27483\u001b[39m), (\u001b[38;5;124m'\u001b[39m\u001b[38;5;124mJack Kallis\u001b[39m\u001b[38;5;124m'\u001b[39m, \u001b[38;5;241m25534\u001b[39m), (\u001b[38;5;124m'\u001b[39m\u001b[38;5;124mVirat Kohli\u001b[39m\u001b[38;5;124m'\u001b[39m, \u001b[38;5;241m24936\u001b[39m)]\n\u001b[0;32m----> 2\u001b[0m find_sort\u001b[38;5;241m=\u001b[39m\u001b[38;5;28;01mlambda\u001b[39;00m l:\u001b[43msort\u001b[49m(l)\n\u001b[1;32m      3\u001b[0m find_sort(l)\n",
      "\u001b[0;31mNameError\u001b[0m: name 'sort' is not defined"
     ]
    }
   ],
   "source": [
    "l=[('Sachin Tendulkar', 34357), ('Ricky Ponting', 27483), ('Jack Kallis', 25534), ('Virat Kohli', 24936)]\n",
    "find_sort=lambda l:sort(l)\n",
    "find_sort(l)"
   ]
  },
  {
   "cell_type": "code",
   "execution_count": null,
   "id": "536370fe-c7ee-4e35-8dda-23aa2f80f3a2",
   "metadata": {},
   "outputs": [],
   "source": [
    "'''Q2. Write a Python Program to find the squares of all the numbers in the given list of integers using\n",
    "lambda and map functions.\n",
    "[1, 2, 3, 4, 5, 6, 7, 8, 9, 10]'''"
   ]
  },
  {
   "cell_type": "code",
   "execution_count": 2,
   "id": "b9fdeb50-a700-4c75-aeb1-641fc3c28c3f",
   "metadata": {},
   "outputs": [
    {
     "data": {
      "text/plain": [
       "[1, 4, 9, 16, 25, 36, 49, 64, 81, 100]"
      ]
     },
     "execution_count": 2,
     "metadata": {},
     "output_type": "execute_result"
    }
   ],
   "source": [
    "l=[1, 2, 3, 4, 5, 6, 7, 8, 9, 10]\n",
    "list(map(lambda x:x**2,l))"
   ]
  },
  {
   "cell_type": "code",
   "execution_count": null,
   "id": "6db3a1f1-9992-4cca-8ea6-69dc4cc69d77",
   "metadata": {},
   "outputs": [],
   "source": [
    "'''Q3. Write a python program to convert the given list of integers into a tuple of strings. Use map and\n",
    "lambda functions\n",
    "Given String: [1, 2, 3, 4, 5, 6, 7, 8, 9, 10]\n",
    "Expected output: ('1', '2', '3', '4', '5', '6', '7', '8', '9', '10')'''"
   ]
  },
  {
   "cell_type": "code",
   "execution_count": 8,
   "id": "ee9c4817-d274-431b-99c6-2bcfa56f30f7",
   "metadata": {},
   "outputs": [
    {
     "name": "stdout",
     "output_type": "stream",
     "text": [
      "('1', '2', '3', '4', '5', '6', '7', '8', '9', '10')\n"
     ]
    }
   ],
   "source": [
    "l1=[1, 2, 3, 4, 5, 6, 7, 8, 9, 10]\n",
    "l2=tuple(map(str,l1))\n",
    "print(l2)\n",
    "     "
   ]
  },
  {
   "cell_type": "code",
   "execution_count": null,
   "id": "7593d329-9f28-40b0-ba40-a9d66abc4195",
   "metadata": {},
   "outputs": [],
   "source": [
    "'''Write a python program using reduce function to compute the product of a list containing numbers\n",
    "from 1 to 25.'''\n"
   ]
  },
  {
   "cell_type": "code",
   "execution_count": 14,
   "id": "fb4f3b54-252f-469d-a028-3ef8cf85ac0a",
   "metadata": {},
   "outputs": [
    {
     "ename": "SyntaxError",
     "evalue": "invalid syntax. Perhaps you forgot a comma? (3660566244.py, line 3)",
     "output_type": "error",
     "traceback": [
      "\u001b[0;36m  Cell \u001b[0;32mIn[14], line 3\u001b[0;36m\u001b[0m\n\u001b[0;31m    reduce(lamba x,y:x+y,l3)\u001b[0m\n\u001b[0m           ^\u001b[0m\n\u001b[0;31mSyntaxError\u001b[0m\u001b[0;31m:\u001b[0m invalid syntax. Perhaps you forgot a comma?\n"
     ]
    }
   ],
   "source": [
    "from functools import reduce\n",
    "l3=[1,2,3,4,5,6,7,8,9,10,11,12,13,14,15,16,17,18,19,20,21,22,23,24,25]\n",
    "reduce(lamba x,y:x+y,l3)"
   ]
  },
  {
   "cell_type": "code",
   "execution_count": null,
   "id": "dfc7c56d-7237-405e-96c6-ab21b25d0fed",
   "metadata": {},
   "outputs": [],
   "source": [
    "'''Q5. Write a python program to filter the numbers in a given list that are divisible by 2 and 3 using the\n",
    "filter function.\n",
    "[2, 3, 6, 9, 27, 60, 90, 120, 55, 46]'''\n"
   ]
  },
  {
   "cell_type": "code",
   "execution_count": 17,
   "id": "d956742e-20f9-48e9-91c8-78ba6f3032cc",
   "metadata": {},
   "outputs": [
    {
     "data": {
      "text/plain": [
       "[6, 60, 90, 120]"
      ]
     },
     "execution_count": 17,
     "metadata": {},
     "output_type": "execute_result"
    }
   ],
   "source": [
    "l4=[2, 3, 6, 9, 27, 60, 90, 120, 55, 46]\n",
    "list(filter(lambda x:x%2==0 and x%3==0,l4))"
   ]
  },
  {
   "cell_type": "code",
   "execution_count": null,
   "id": "1ac262b5-06c9-488c-9e5b-20d73e38ba04",
   "metadata": {},
   "outputs": [],
   "source": [
    "'''Q6. Write a python program to find palindromes in the given list of strings using lambda and filter\n",
    "function.\n",
    "['python', 'php', 'aba', 'radar', 'level']'''\n"
   ]
  },
  {
   "cell_type": "code",
   "execution_count": 18,
   "id": "fe00dce4-c8de-47cb-ab99-cc1c4b691bd2",
   "metadata": {},
   "outputs": [
    {
     "name": "stdout",
     "output_type": "stream",
     "text": [
      "Orginal list of strings:\n",
      "['python', 'php', 'aba', 'radar', 'level']\n",
      "\n",
      "List of palindromes:\n",
      "['php', 'aba', 'radar', 'level']\n"
     ]
    }
   ],
   "source": [
    "texts=['python', 'php', 'aba', 'radar', 'level']\n",
    "print(\"Orginal list of strings:\")\n",
    "print(texts) \n",
    "result = list(filter(lambda x: (x == \"\".join(reversed(x))), texts)) \n",
    "print(\"\\nList of palindromes:\")\n",
    "print(result) "
   ]
  },
  {
   "cell_type": "code",
   "execution_count": null,
   "id": "ff24985e-5a01-4f0d-bdc7-85e82403a65b",
   "metadata": {},
   "outputs": [],
   "source": []
  }
 ],
 "metadata": {
  "kernelspec": {
   "display_name": "Python 3 (ipykernel)",
   "language": "python",
   "name": "python3"
  },
  "language_info": {
   "codemirror_mode": {
    "name": "ipython",
    "version": 3
   },
   "file_extension": ".py",
   "mimetype": "text/x-python",
   "name": "python",
   "nbconvert_exporter": "python",
   "pygments_lexer": "ipython3",
   "version": "3.10.8"
  }
 },
 "nbformat": 4,
 "nbformat_minor": 5
}
